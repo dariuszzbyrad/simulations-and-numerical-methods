{
  "nbformat": 4,
  "nbformat_minor": 0,
  "metadata": {
    "colab": {
      "provenance": [],
      "collapsed_sections": [
        "-YaZuXxqSbZm"
      ]
    },
    "kernelspec": {
      "name": "python3",
      "display_name": "Python 3"
    },
    "language_info": {
      "name": "python"
    }
  },
  "cells": [
    {
      "cell_type": "markdown",
      "source": [
        "# Rozwiązanie zadań ze skryptu [https://www.fuw.edu.pl/~kmiernik/docs/cwiczenia.pdf](https://www.fuw.edu.pl/~kmiernik/docs/cwiczenia.pdf)\n"
      ],
      "metadata": {
        "id": "pQaYgM0zP9-f"
      }
    },
    {
      "cell_type": "markdown",
      "source": [
        "## Zadanie 9\n",
        "Wypisz na ekranie liczby z zakresu 0 . . . 1, z krokiem 0.025, z dokładno-\n",
        "ścią do 20 cyfr znaczących. Czy zauważasz jakieś zależności? Dlaczego\n",
        "niektóre liczby są zapisane dokładnie, a inne nie?"
      ],
      "metadata": {
        "id": "jPJFSUuKQKn-"
      }
    },
    {
      "cell_type": "code",
      "source": [
        "import numpy as np\n",
        "\n",
        "for i in np.arange(0, 1, 0.025):\n",
        "  print(i)"
      ],
      "metadata": {
        "colab": {
          "base_uri": "https://localhost:8080/"
        },
        "id": "wl24kuUlR9-r",
        "outputId": "1e8884af-345e-478f-fb22-70a909dc9bcc"
      },
      "execution_count": 1,
      "outputs": [
        {
          "output_type": "stream",
          "name": "stdout",
          "text": [
            "0.0\n",
            "0.025\n",
            "0.05\n",
            "0.07500000000000001\n",
            "0.1\n",
            "0.125\n",
            "0.15000000000000002\n",
            "0.17500000000000002\n",
            "0.2\n",
            "0.225\n",
            "0.25\n",
            "0.275\n",
            "0.30000000000000004\n",
            "0.325\n",
            "0.35000000000000003\n",
            "0.375\n",
            "0.4\n",
            "0.42500000000000004\n",
            "0.45\n",
            "0.47500000000000003\n",
            "0.5\n",
            "0.525\n",
            "0.55\n",
            "0.5750000000000001\n",
            "0.6000000000000001\n",
            "0.625\n",
            "0.65\n",
            "0.675\n",
            "0.7000000000000001\n",
            "0.7250000000000001\n",
            "0.75\n",
            "0.775\n",
            "0.8\n",
            "0.8250000000000001\n",
            "0.8500000000000001\n",
            "0.875\n",
            "0.9\n",
            "0.925\n",
            "0.9500000000000001\n",
            "0.9750000000000001\n"
          ]
        }
      ]
    },
    {
      "cell_type": "markdown",
      "source": [
        "## Zadanie 11\n",
        "Napisz program który doda do siebie n razy (gdzie n ∈\n",
        "[10, 100, 1000, 10000, 100000, 1000000]) liczbę δx, a następnie narysuje\n",
        "wykres odchylenia błędu wyniku sumowania od prawidłowego rezultatu\n",
        "w zależności od n. Sprawdź zachowanie się odchyleń dla δx = 0.1 oraz\n",
        "0.125."
      ],
      "metadata": {
        "id": "-YaZuXxqSbZm"
      }
    },
    {
      "cell_type": "code",
      "source": [
        "for n in [10, 100, 1000, 10000, 1000000]:\n",
        "  i = 1\n",
        "  sum = 0;\n",
        "  while i <= n:\n",
        "    sum += 0.1\n",
        "    i += 1\n",
        "  print('[δx = 0.1] For n=', n, ' sum is ', sum, ' but should be ', 0.1*n)"
      ],
      "metadata": {
        "colab": {
          "base_uri": "https://localhost:8080/"
        },
        "id": "oR46GS6SThER",
        "outputId": "707937de-d494-42d3-f255-eea9b6e9b2f6"
      },
      "execution_count": 2,
      "outputs": [
        {
          "output_type": "stream",
          "name": "stdout",
          "text": [
            "[δx = 0.1] For n= 10  sum is  0.9999999999999999  but should be  1.0\n",
            "[δx = 0.1] For n= 100  sum is  9.99999999999998  but should be  10.0\n",
            "[δx = 0.1] For n= 1000  sum is  99.9999999999986  but should be  100.0\n",
            "[δx = 0.1] For n= 10000  sum is  1000.0000000001588  but should be  1000.0\n",
            "[δx = 0.1] For n= 1000000  sum is  100000.00000133288  but should be  100000.0\n"
          ]
        }
      ]
    },
    {
      "cell_type": "code",
      "source": [
        "for n in [10, 100, 1000, 10000, 1000000]:\n",
        "  i = 1\n",
        "  sum = 0;\n",
        "  while i <= n:\n",
        "    sum += 0.125\n",
        "    i += 1\n",
        "  print('[δx = 0.125] For n=', n, ' sum is ', sum, ' but should be ', 0.125*n)"
      ],
      "metadata": {
        "colab": {
          "base_uri": "https://localhost:8080/"
        },
        "id": "u052d8OjUgrJ",
        "outputId": "12d4b67c-bb11-421a-e167-3bdea1f07b59"
      },
      "execution_count": 3,
      "outputs": [
        {
          "output_type": "stream",
          "name": "stdout",
          "text": [
            "[δx = 0.125] For n= 10  sum is  1.25  but should be  1.25\n",
            "[δx = 0.125] For n= 100  sum is  12.5  but should be  12.5\n",
            "[δx = 0.125] For n= 1000  sum is  125.0  but should be  125.0\n",
            "[δx = 0.125] For n= 10000  sum is  1250.0  but should be  1250.0\n",
            "[δx = 0.125] For n= 1000000  sum is  125000.0  but should be  125000.0\n"
          ]
        }
      ]
    },
    {
      "cell_type": "markdown",
      "source": [
        "## Zadanie 12\n",
        "Wyznaczyć kolejne wartości ciągu\n",
        "\\begin{equation}\n",
        "x_{n+1} = \\frac{13}{3} x_n - \\frac{4}{3} x_{n-1}\n",
        "\\end{equation}\n",
        "dla \\begin{equation} x_0 = 1, x_1 = 1/3 \\end{equation}\n",
        "I porównać z wynikiem wyprowadzonym z dowodu indukcyjnego,\n",
        "\\begin{equation}\n",
        "x_n = \\frac{1}{3^n}\n",
        "\\end{equation}\n"
      ],
      "metadata": {
        "id": "jCvFO5KIUlWo"
      }
    },
    {
      "cell_type": "code",
      "source": [
        "from sklearn.metrics import mean_squared_error\n",
        "\n",
        "elements = 10\n",
        "\n",
        "n = np.arange(1, elements + 1)\n",
        "result_iter = [0] * elements\n",
        "result_correct = [0] * elements\n",
        "\n",
        "result_iter[0] = 1\n",
        "result_iter[1] = 1/3\n",
        "\n",
        "result_correct[0] = 1\n",
        "result_correct[1] = 1/3\n",
        "\n",
        "for i in np.arange(2, elements):\n",
        "  result_iter[i] = 13/3 * result_iter[i-1] - 4/3 * result_iter[i-2]\n",
        "  result_correct[i] = 1/pow(3, i)\n",
        "  diff = abs(result_iter[i] - result_correct[i])/result_correct[i] * 100\n",
        "  print('For n =', i, ' error:', diff, '%.', 'Values =', [result_iter[i], result_correct[i]])\n",
        "\n",
        "print('MSE = ', mean_squared_error(result_correct,result_iter))"
      ],
      "metadata": {
        "colab": {
          "base_uri": "https://localhost:8080/"
        },
        "id": "MLMNkv78WaQH",
        "outputId": "0e121e96-bd20-424d-b18f-7b221fc6f03d"
      },
      "execution_count": 4,
      "outputs": [
        {
          "output_type": "stream",
          "name": "stdout",
          "text": [
            "For n = 2  error: 1.4988010832439613e-13 %. Values = [0.11111111111111094, 0.1111111111111111]\n",
            "For n = 3  error: 2.098321516541546e-12 %. Values = [0.03703703703703626, 0.037037037037037035]\n",
            "For n = 4  error: 2.562949852347174e-11 %. Values = [0.012345679012342514, 0.012345679012345678]\n",
            "For n = 5  error: 3.080176738667894e-10 %. Values = [0.004115226337435884, 0.00411522633744856]\n",
            "For n = 6  error: 3.696575662757995e-09 %. Values = [0.0013717421124321456, 0.0013717421124828531]\n",
            "For n = 7  error: 4.4359465173381477e-08 %. Values = [0.00045724737062478524, 0.0004572473708276177]\n",
            "For n = 8  error: 5.323140978057356e-07 %. Values = [0.00015241578946454185, 0.00015241579027587258]\n",
            "For n = 9  error: 6.387769680502172e-06 %. Values = [5.0805260179967644e-05, 5.080526342529086e-05]\n",
            "MSE =  1.1234263908156955e-24\n"
          ]
        }
      ]
    },
    {
      "cell_type": "markdown",
      "source": [
        "## Zadanie 14\n",
        "\n",
        "Zaimplementuj metodę bisekcji szukania miejsc zerowych dla dowolnej\n",
        "funkcji $f(x)$. Sprawdź jej poprawność rozwiązując równanie $x^2 = 2$."
      ],
      "metadata": {
        "id": "wb9Gv_pBfT5B"
      }
    },
    {
      "cell_type": "code",
      "source": [
        "import numpy as np\n",
        "\n",
        "def bisection_root_scalar(f, start, stop, iter=100):\n",
        "  half = (start + stop) / 2\n",
        "  for i in np.arange(1, iter + 1):\n",
        "    f_l = f(start)\n",
        "    f_m = f(half)\n",
        "    f_r = f(stop)\n",
        "\n",
        "    if f_l * f_m < 0:\n",
        "      start = start\n",
        "      stop = half \n",
        "      half = (start + stop) / 2\n",
        "    else:\n",
        "      start = half\n",
        "      stop = stop \n",
        "      half = (start + stop) / 2\n",
        "  \n",
        "  return half\n",
        "\n",
        "def f(x):\n",
        "  return pow(x, 2)-2\n",
        "\n",
        "\n",
        "print(bisection_root_scalar(f, -100, 100))\n"
      ],
      "metadata": {
        "colab": {
          "base_uri": "https://localhost:8080/"
        },
        "id": "TVjbI6mafmXi",
        "outputId": "454de893-11e1-4636-b19e-d00cf3b224f3"
      },
      "execution_count": 5,
      "outputs": [
        {
          "output_type": "stream",
          "name": "stdout",
          "text": [
            "-1.414213562373095\n"
          ]
        }
      ]
    },
    {
      "cell_type": "markdown",
      "source": [
        "## Zadanie 15\n",
        "\n",
        "Zaimplementuj metodę Newtona szukania miejsc zerowych dla dowolnej\n",
        "funkcji $f(x)$. Sprawdź jej poprawność rozwiązując równanie $x^2 = 2$."
      ],
      "metadata": {
        "id": "bzpYkEjPliRk"
      }
    },
    {
      "cell_type": "markdown",
      "source": [
        ":\\begin{equation}\n",
        "x_{k+1} = x_k - \\frac{f(x)}{f'(x)}\n",
        "\\end{equation}"
      ],
      "metadata": {
        "id": "FC5QIXURoBxh"
      }
    },
    {
      "cell_type": "code",
      "source": [
        "import numpy as np\n",
        "\n",
        "def newton_root_scalar(f, f_diff, start, iter=100):\n",
        "  root_scalar = start\n",
        "  for k in np.arange(1, iter+1):\n",
        "    root_scalar = root_scalar - (f(root_scalar)/f_diff(root_scalar))\n",
        "  return root_scalar\n",
        "\n",
        "def f(x):\n",
        "  return pow(x, 2)-2\n",
        "\n",
        "def f_diff(x):\n",
        "  return 2*x\n",
        "\n",
        "\n",
        "print(newton_root_scalar(f, f_diff, -100))"
      ],
      "metadata": {
        "colab": {
          "base_uri": "https://localhost:8080/"
        },
        "id": "Jn3bsAAKlo1N",
        "outputId": "1dfa8756-4b8f-4ddd-f85f-88441e7d9eff"
      },
      "execution_count": 6,
      "outputs": [
        {
          "output_type": "stream",
          "name": "stdout",
          "text": [
            "-1.414213562373095\n"
          ]
        }
      ]
    },
    {
      "cell_type": "markdown",
      "source": [
        "## Zadanie 20\n",
        "\n",
        "Zaimplementować metodę Lagrange’a znajdowania interpolacji w punkcie $x$ jeżeli danych jest $n$ punktów $(x_i, y_i)$.\n",
        "\n",
        "\\begin{equation}\n",
        "L(x) = \\sum_{i=0}^{n-1} y_i \\prod_{j=0 j \\neq i}^{n} \\frac{x-x_j}{x_i - x_j}\n",
        "\\end{equation}\n"
      ],
      "metadata": {
        "id": "8owBPsROMohp"
      }
    },
    {
      "cell_type": "code",
      "source": [
        "import numpy as np\n",
        "\n",
        "x = [0, 1, 3]\n",
        "y = [1, 3, 2]\n",
        "\n",
        "def lagrange_polynomial(x, X, Y):\n",
        "  result = 0\n",
        "  subresult = 1\n",
        "  for i in np.arange(0, len(X)):\n",
        "    for j in np.arange(0, len(X)):\n",
        "      if j != i:\n",
        "        subresult *= (x-X[j])/(X[i]-X[j])\n",
        "\n",
        "    result += Y[i] * subresult\n",
        "    subresult = 1\n",
        "\n",
        "  return result\n",
        "\n",
        "print(lagrange_polynomial(2, x, y))"
      ],
      "metadata": {
        "colab": {
          "base_uri": "https://localhost:8080/"
        },
        "id": "JI9dfyRyZCE9",
        "outputId": "0eda06dd-e56f-4735-b06d-5ac73612bdc6"
      },
      "execution_count": 7,
      "outputs": [
        {
          "output_type": "stream",
          "name": "stdout",
          "text": [
            "3.333333333333333\n"
          ]
        }
      ]
    },
    {
      "cell_type": "markdown",
      "source": [
        "## Zadanie 25\n",
        "\n",
        "Zaimplementować metodę różniczkowania numerycznego za pomocą\n",
        "różnic dzielonych\n",
        "\n",
        "\\begin{equation}\n",
        "f'(x) \\approx \\frac{f(x+h)-f(x)}{h}\n",
        "\\end{equation}\n",
        "\n",
        "\n",
        "gdzie parametrem jest długość przedziału $h$.\n",
        "\n",
        "a) Obliczyć pochodną funkcji $sin(x)$ w przedziale $[0, 2π]$ i porównać gra-\n",
        "ficznie z wynikiem dokładnym.\n",
        "\n",
        "b) Dla punktu $π/4$ sprawdzić jak zmienia się dokładność wraz ze zmianą\n",
        "parametru $h$.\n",
        "\n",
        "c) Powtórzyć analizę dla funkcji\n",
        "\\begin{equation}\n",
        "f(x) = \\frac{-V}{1+exp(\\frac{x-x_0}{a})}\n",
        "\\end{equation}\n",
        "Dla $V = 1, x_0 = 1, a = 0.1$, w punkcie $x = 1.0$."
      ],
      "metadata": {
        "id": "O0zyVJ3XtovK"
      }
    },
    {
      "cell_type": "code",
      "source": [
        "import numpy as np\n",
        "\n",
        "def derivative(f, point, h):\n",
        "  return (f(point + h) - f(point)) / h "
      ],
      "metadata": {
        "id": "1DRuEkAswoAO"
      },
      "execution_count": 8,
      "outputs": []
    },
    {
      "cell_type": "code",
      "source": [
        "import math\n",
        "import matplotlib.pyplot as plt\n",
        "\n",
        "h = 0.2\n",
        "start = 0\n",
        "stop = 2*math.pi\n",
        "X = np.arange(start, stop, h)\n",
        "\n",
        "\n",
        "sin_devirative_analytical = [0] * len(X)\n",
        "sin_devirative_numerical = [0] * len(X)\n",
        "\n",
        "for i in np.arange(len(X)):\n",
        "  sin_devirative_analytical[i] = math.cos(X[i])\n",
        "  sin_devirative_numerical[i] = derivative(math.sin, X[i], h)\n",
        "\n",
        "plt.plot(X, sin_devirative_analytical, 'b')\n",
        "plt.plot(X, sin_devirative_numerical, 'g')\n",
        "plt.show()"
      ],
      "metadata": {
        "colab": {
          "base_uri": "https://localhost:8080/",
          "height": 265
        },
        "id": "XDBK4Rczm9S4",
        "outputId": "3ea7ef24-ff10-40b0-ff50-cf08523a8e4a"
      },
      "execution_count": 9,
      "outputs": [
        {
          "output_type": "display_data",
          "data": {
            "text/plain": [
              "<Figure size 432x288 with 1 Axes>"
            ],
            "image/png": "[encoded data removed]"
          },
          "metadata": {
            "needs_background": "light"
          }
        }
      ]
    },
    {
      "cell_type": "code",
      "source": [
        "import math\n",
        "import matplotlib.pyplot as plt\n",
        "\n",
        "point = math.pi / 4\n",
        "h = np.arange(0.01, 0.9, 0.01)\n",
        "\n",
        "sin_devirative_analytical = [math.cos(point)] * len(h)\n",
        "sin_devirative_numerical = [0] * len(h)\n",
        "\n",
        "for i in np.arange(len(h)):\n",
        "  sin_devirative_numerical[i] = derivative(math.sin, point, h[i])\n",
        "\n",
        "plt.plot(h, sin_devirative_analytical, 'b')\n",
        "plt.plot(h, sin_devirative_numerical, 'g')\n",
        "plt.legend(loc=\"upper left\")\n",
        "plt.gca().legend(('analytical solution','numerical solution'))\n",
        "plt.xlabel('differentiation step [h]')\n",
        "plt.ylabel('derivative value for sin(pi / 4)')\n",
        "plt.show()"
      ],
      "metadata": {
        "colab": {
          "base_uri": "https://localhost:8080/",
          "height": 297
        },
        "id": "ferHpanEvdg4",
        "outputId": "962c0f0d-c81f-4793-dd6e-33139fd144d5"
      },
      "execution_count": 10,
      "outputs": [
        {
          "output_type": "stream",
          "name": "stderr",
          "text": [
            "WARNING:matplotlib.legend:No handles with labels found to put in legend.\n"
          ]
        },
        {
          "output_type": "display_data",
          "data": {
            "text/plain": [
              "<Figure size 432x288 with 1 Axes>"
            ],
            "image/png": "[encoded data removed]"
          },
          "metadata": {
            "needs_background": "light"
          }
        }
      ]
    }
  ]
}