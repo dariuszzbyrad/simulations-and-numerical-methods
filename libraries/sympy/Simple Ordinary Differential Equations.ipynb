{
  "nbformat": 4,
  "nbformat_minor": 0,
  "metadata": {
    "colab": {
      "provenance": []
    },
    "kernelspec": {
      "name": "python3",
      "display_name": "Python 3"
    },
    "language_info": {
      "name": "python"
    }
  },
  "cells": [
    {
      "cell_type": "code",
      "execution_count": 1,
      "metadata": {
        "id": "XHIjV5qB3hJO"
      },
      "outputs": [],
      "source": [
        "# Init SymPy\n",
        "import sympy\n",
        "sympy.init_printing()"
      ]
    },
    {
      "cell_type": "code",
      "source": [
        "# Create symbols and function object i(t)\n",
        "\n",
        "t, U, L, R = sympy.symbols(\"t U L R\")\n",
        "i = sympy.Function(\"i\")(t)"
      ],
      "metadata": {
        "id": "JzhHD6LA3iYO"
      },
      "execution_count": 2,
      "outputs": []
    },
    {
      "cell_type": "code",
      "source": [
        "# Creating a differential equation\n",
        "diff_eq = sympy.Eq(L*i.diff(t) + R*i, U)\n",
        "diff_eq"
      ],
      "metadata": {
        "colab": {
          "base_uri": "https://localhost:8080/",
          "height": 52
        },
        "id": "groEuU0bJuW9",
        "outputId": "06fa2885-1e9f-4230-b12c-2010963a1bb9"
      },
      "execution_count": 3,
      "outputs": [
        {
          "output_type": "execute_result",
          "data": {
            "text/plain": [
              "  d                    \n",
              "L⋅──(i(t)) + R⋅i(t) = U\n",
              "  dt                   "
            ],
            "image/png": "[encoded data removed]",
            "text/latex": "$\\displaystyle L \\frac{d}{d t} i{\\left(t \\right)} + R i{\\left(t \\right)} = U$"
          },
          "metadata": {},
          "execution_count": 3
        }
      ]
    },
    {
      "cell_type": "code",
      "source": [
        "# Solving the ODE\n",
        "sol = sympy.dsolve(diff_eq, i)\n",
        "sol"
      ],
      "metadata": {
        "colab": {
          "base_uri": "https://localhost:8080/",
          "height": 59
        },
        "id": "qqHlD9BAfnWK",
        "outputId": "c1fe140d-9791-4bb1-92bc-aa1b1eaffcc0"
      },
      "execution_count": 4,
      "outputs": [
        {
          "output_type": "execute_result",
          "data": {
            "text/plain": [
              "            R⋅(C₁ - t)\n",
              "            ──────────\n",
              "                L     \n",
              "       U + ℯ          \n",
              "i(t) = ───────────────\n",
              "              R       "
            ],
            "image/png": "[encoded data removed]",
            "text/latex": "$\\displaystyle i{\\left(t \\right)} = \\frac{U + e^{\\frac{R \\left(C_{1} - t\\right)}{L}}}{R}$"
          },
          "metadata": {},
          "execution_count": 4
        }
      ]
    },
    {
      "cell_type": "code",
      "source": [
        "# Writing a dictionary with the initial condition\n",
        "ics = {i.subs(t, 0): 0}\n",
        "ics"
      ],
      "metadata": {
        "colab": {
          "base_uri": "https://localhost:8080/",
          "height": 38
        },
        "id": "qRL5QBA4hIAf",
        "outputId": "8ad64b19-f715-49ff-f5ee-9b7a4fb8c9c2"
      },
      "execution_count": 5,
      "outputs": [
        {
          "output_type": "execute_result",
          "data": {
            "text/plain": [
              "{i(0): 0}"
            ],
            "image/png": "[encoded data removed]",
            "text/latex": "$\\displaystyle \\left\\{ i{\\left(0 \\right)} : 0\\right\\}$"
          },
          "metadata": {},
          "execution_count": 5
        }
      ]
    },
    {
      "cell_type": "code",
      "source": [
        "# Solving the initial value problem\n",
        "ivp = sympy.dsolve(diff_eq, ics=ics)\n",
        "ivp"
      ],
      "metadata": {
        "colab": {
          "base_uri": "https://localhost:8080/",
          "height": 67
        },
        "id": "ych3wZdZiXNn",
        "outputId": "8f9072db-80b5-43a7-e6f7-4f8633ac53ba"
      },
      "execution_count": 6,
      "outputs": [
        {
          "output_type": "execute_result",
          "data": {
            "text/plain": [
              "              ⎛L⋅log(-U)    ⎞\n",
              "            R⋅⎜───────── - t⎟\n",
              "              ⎝    R        ⎠\n",
              "            ─────────────────\n",
              "                    L        \n",
              "       U + ℯ                 \n",
              "i(t) = ──────────────────────\n",
              "                 R           "
            ],
            "image/png": "[encoded data removed]",
            "text/latex": "$\\displaystyle i{\\left(t \\right)} = \\frac{U + e^{\\frac{R \\left(\\frac{L \\log{\\left(- U \\right)}}{R} - t\\right)}{L}}}{R}$"
          },
          "metadata": {},
          "execution_count": 6
        }
      ]
    },
    {
      "cell_type": "code",
      "source": [
        "# Simplify solution \n",
        "sympy.simplify(ivp.rhs)"
      ],
      "metadata": {
        "colab": {
          "base_uri": "https://localhost:8080/",
          "height": 66
        },
        "id": "jqb66wL1jSto",
        "outputId": "7aed0af1-271c-4b51-f85d-9f0987b5ce9c"
      },
      "execution_count": 7,
      "outputs": [
        {
          "output_type": "execute_result",
          "data": {
            "text/plain": [
              "  ⎛     -R⋅t ⎞\n",
              "  ⎜     ─────⎟\n",
              "  ⎜       L  ⎟\n",
              "U⋅⎝1 - ℯ     ⎠\n",
              "──────────────\n",
              "      R       "
            ],
            "image/png": "[encoded data removed]",
            "text/latex": "$\\displaystyle \\frac{U \\left(1 - e^{- \\frac{R t}{L}}\\right)}{R}$"
          },
          "metadata": {},
          "execution_count": 7
        }
      ]
    },
    {
      "cell_type": "code",
      "source": [
        "# Checking the first initial condition\n",
        "ivp.subs(t, 0) "
      ],
      "metadata": {
        "colab": {
          "base_uri": "https://localhost:8080/",
          "height": 38
        },
        "id": "boHd-W29lsgH",
        "outputId": "db53b4e9-f989-4ced-f7ea-7a05574a8721"
      },
      "execution_count": 8,
      "outputs": [
        {
          "output_type": "execute_result",
          "data": {
            "text/plain": [
              "i(0) = 0"
            ],
            "image/png": "[encoded data removed]",
            "text/latex": "$\\displaystyle i{\\left(0 \\right)} = 0$"
          },
          "metadata": {},
          "execution_count": 8
        }
      ]
    }
  ]
}